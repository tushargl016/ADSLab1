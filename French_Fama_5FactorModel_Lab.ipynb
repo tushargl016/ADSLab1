{
 "cells": [
  {
   "cell_type": "markdown",
   "metadata": {},
   "source": [
    "# Lab for INFO 7390 Spring 2018"
   ]
  },
  {
   "cell_type": "markdown",
   "metadata": {},
   "source": [
    "### This lab introduces you to the concept of FAMA French Multi Factor model\n",
    "This model was proposed in 1993 by Eugene Fama and Kenneth French to describe stock returns.[1]\n",
    "The 5-factor model is\n",
    "\n",
    "    R = \\alpha + \\beta_m MKT + \\beta_s SMB + \\beta_h HML + \\beta_r RMW + \\beta_c CMA \n",
    "where\n",
    "\n",
    "MKT is the excess return of the market.[2] It's the value-weighted return of all CRSP firms incorporated in the US and listed on the NYSE, AMEX, or NASDAQ minus the 1-month Treasury Bill rate.\n",
    "SMB (Small Minus Big) measures the excess return of stocks with small market cap over those with larger market cap.\n",
    "HML (High Minus Low) measures the excess return of value stocks over growth stocks. Value stocks have high book to price ratio (B/P) than growth stocks.RMW is the difference between the returns on diversified portfolios of stocks\n",
    "with robust and weak profitability, and CMAt is the difference between the returns on diversified\n",
    "portfolios of low and high investment stocks, which we call conservative and aggressive.\n",
    "\n"
   ]
  },
  {
   "cell_type": "markdown",
   "metadata": {},
   "source": [
    "### Please follow the instructions and fill out the missing cells with appropriate code"
   ]
  },
  {
   "cell_type": "markdown",
   "metadata": {},
   "source": [
    "## Make necessary imports\n",
    "\n",
    "1. Pandas\n",
    "2. Numpy\n",
    "3. Sklearn\n",
    "4. quandl\n",
    "5. requests\n",
    "6. zipfile\n",
    "7. io"
   ]
  },
  {
   "cell_type": "markdown",
   "metadata": {},
   "source": [
    "### Note: In any function if you see a parameter named df it means you need to pass a DataFrame"
   ]
  },
  {
   "cell_type": "code",
   "execution_count": null,
   "metadata": {
    "collapsed": true,
    "scrolled": true
   },
   "outputs": [],
   "source": [
    "### Write your code here"
   ]
  },
  {
   "cell_type": "markdown",
   "metadata": {},
   "source": [
    "### Urls for fetching the fama french data\n",
    "#### ff5 is the 5 variable model"
   ]
  },
  {
   "cell_type": "code",
   "execution_count": 3,
   "metadata": {
    "collapsed": true
   },
   "outputs": [],
   "source": [
    "url_ff5='http://mba.tuck.dartmouth.edu/pages/faculty/ken.french/ftp/F-F_Research_Data_5_Factors_2x3_CSV.zip'\n",
    "url_ff5_daily=\"http://mba.tuck.dartmouth.edu/pages/faculty/ken.french/ftp/F-F_Research_Data_5_Factors_2x3_daily_CSV.zip\"\n"
   ]
  },
  {
   "cell_type": "markdown",
   "metadata": {},
   "source": [
    "### Write a Function to fetch the data"
   ]
  },
  {
   "cell_type": "code",
   "execution_count": 4,
   "metadata": {
    "collapsed": true
   },
   "outputs": [],
   "source": [
    "def fetchingfamadata(url,name_of_csv,no_of_skiprows,no_of_skipfooter):\n",
    "    ### Write your code here\n",
    "    return df\n"
   ]
  },
  {
   "cell_type": "markdown",
   "metadata": {},
   "source": [
    "### Make a call to above function to download the data and put it in the dataframe\n",
    "#### Provide appropriate arguments to the function"
   ]
  },
  {
   "cell_type": "code",
   "execution_count": null,
   "metadata": {
    "collapsed": true
   },
   "outputs": [],
   "source": [
    "### Fetching the FAMA 5 Factor model data with monthly frequency\n",
    "ff5=fetchingfamadata(url_ff5,name_of_csv,no_of_skiprows,no_of_skipfooter)\n",
    "\n",
    "### Fetching the FAMA 5 Factor model data with daily frequency\n",
    "ff5_daily=fetchingfamadata(url_ff5_daily,name_of_csv,no_of_skiprows,no_of_skipfooter)\n"
   ]
  },
  {
   "cell_type": "markdown",
   "metadata": {},
   "source": [
    "### Have a look at the data"
   ]
  },
  {
   "cell_type": "code",
   "execution_count": null,
   "metadata": {
    "collapsed": true
   },
   "outputs": [],
   "source": [
    "ff5.head()"
   ]
  },
  {
   "cell_type": "code",
   "execution_count": null,
   "metadata": {
    "collapsed": true
   },
   "outputs": [],
   "source": [
    "ff5_daily.head()"
   ]
  },
  {
   "cell_type": "markdown",
   "metadata": {},
   "source": [
    "#### In the above dataframe the index column contains the datetime in the format YYYYMM and YYYYMMDD so reset the index and make it a separate column"
   ]
  },
  {
   "cell_type": "code",
   "execution_count": null,
   "metadata": {
    "collapsed": true
   },
   "outputs": [],
   "source": [
    "### Write your code here"
   ]
  },
  {
   "cell_type": "markdown",
   "metadata": {},
   "source": [
    "#### The monthly FAMA data contains some unnecessary rows that need to be removed\n",
    "#### If you open the csv you will see in the first column a value as Annual Factors: January-December\n",
    "#### You need to find that row and drop that row and rows after it"
   ]
  },
  {
   "cell_type": "markdown",
   "metadata": {},
   "source": [
    "### Function to remove unnecessary rows in the monthly FAMA data"
   ]
  },
  {
   "cell_type": "code",
   "execution_count": 8,
   "metadata": {
    "collapsed": true
   },
   "outputs": [],
   "source": [
    "def cleanfamamonthly(df):\n",
    "    ### Write your code here\n",
    "    return df"
   ]
  },
  {
   "cell_type": "code",
   "execution_count": 9,
   "metadata": {
    "collapsed": true
   },
   "outputs": [],
   "source": [
    "ff5=cleanfamamonthly(ff5)"
   ]
  },
  {
   "cell_type": "markdown",
   "metadata": {},
   "source": [
    "### Write a function to extract the year , month and day column to be used for merging the data later"
   ]
  },
  {
   "cell_type": "code",
   "execution_count": 10,
   "metadata": {
    "collapsed": true
   },
   "outputs": [],
   "source": [
    "def extract_month_year_day(df):\n",
    "    ### Write your code here\n",
    "    return df\n",
    "\n",
    "ff5=extract_month_year_day(ff5)\n",
    "\n",
    "ff5_daily=extract_month_year_day(ff5_daily)\n"
   ]
  },
  {
   "cell_type": "markdown",
   "metadata": {},
   "source": [
    "#### Checking if the split worked fine"
   ]
  },
  {
   "cell_type": "code",
   "execution_count": null,
   "metadata": {
    "collapsed": true,
    "scrolled": true
   },
   "outputs": [],
   "source": [
    "ff5.head()"
   ]
  },
  {
   "cell_type": "code",
   "execution_count": null,
   "metadata": {
    "collapsed": true
   },
   "outputs": [],
   "source": [
    "ff5_daily.head()"
   ]
  },
  {
   "cell_type": "markdown",
   "metadata": {},
   "source": [
    "### Fetching the stocks data"
   ]
  },
  {
   "cell_type": "markdown",
   "metadata": {},
   "source": [
    "#### Parameterize your api key"
   ]
  },
  {
   "cell_type": "code",
   "execution_count": null,
   "metadata": {
    "collapsed": true
   },
   "outputs": [],
   "source": [
    "api_key=input()"
   ]
  },
  {
   "cell_type": "markdown",
   "metadata": {},
   "source": [
    "#### Set your api key in the quandl config"
   ]
  },
  {
   "cell_type": "code",
   "execution_count": 14,
   "metadata": {
    "collapsed": true
   },
   "outputs": [],
   "source": [
    "quandl.ApiConfig.api_key=api_key"
   ]
  },
  {
   "cell_type": "markdown",
   "metadata": {},
   "source": [
    "### Write a function to calculate the MAPE value"
   ]
  },
  {
   "cell_type": "code",
   "execution_count": 15,
   "metadata": {
    "collapsed": true
   },
   "outputs": [],
   "source": [
    "def mean_absolute_percentage_error(y_test,x_predict):\n",
    "    ### Write your code here\n",
    "    return mape\n"
   ]
  },
  {
   "cell_type": "markdown",
   "metadata": {},
   "source": [
    "### Change the datatypes to float so that it can be used in the model"
   ]
  },
  {
   "cell_type": "code",
   "execution_count": 17,
   "metadata": {
    "collapsed": true
   },
   "outputs": [],
   "source": [
    "def datatypechange(df,nameofcol):\n",
    "    ### Write your code here\n",
    "    return df\n"
   ]
  },
  {
   "cell_type": "markdown",
   "metadata": {},
   "source": [
    "### List of stocks "
   ]
  },
  {
   "cell_type": "code",
   "execution_count": 18,
   "metadata": {
    "collapsed": true
   },
   "outputs": [],
   "source": [
    "stocklist=[\"WIKI/MMM.11\", \"WIKI/AXP.11\", \"WIKI/AAPL.11\", \"WIKI/BA.11\", \"WIKI/CAT.11\", \"WIKI/CVX.11\", \"WIKI/CSCO.11\", \"WIKI/KO.11\", \"WIKI/DWDP.11\", \"WIKI/DIS.11\", \"WIKI/XOM.11\", \"WIKI/GE.11\", \"WIKI/GS.11\", \"WIKI/HD.11\", \"WIKI/IBM.11\", \"WIKI/INTC.11\", \"WIKI/JNJ.11\", \"WIKI/JPM.11\", \"WIKI/MCD.11\", \"WIKI/MRK.11\", \"WIKI/MSFT.11\", \"WIKI/NKE.11\", \"WIKI/PFE.11\", \"WIKI/PG.11\", \"WIKI/TRV.11\", \"WIKI/UTX.11\", \"WIKI/UNH.11\", \"WIKI/VZ.11\", \"WIKI/V.11\", \"WIKI/WMT.11\"]"
   ]
  },
  {
   "cell_type": "markdown",
   "metadata": {},
   "source": [
    "### Dataframe to store the final results\n",
    "### You will append the result for each stock in this dataframe look at the fields you need to fill out"
   ]
  },
  {
   "cell_type": "code",
   "execution_count": 19,
   "metadata": {
    "collapsed": true
   },
   "outputs": [],
   "source": [
    "final_result=pd.DataFrame(columns=[\"Stock\",\"DataType\",\"Model\",\"Train_R2\",\"Test_R2\",\"Train_MAE\",\"Test_MAE\",\"Train_RMSE\",\"Test_RMSE\",\"Train_MAPE\",\"Test_MAPE\",\"Mkt_RF_coefficient\",\"HML_coefficient\",\"SMB_coefficient\",\"RMW_coefficient\",\"CMA_coefficient\"])"
   ]
  },
  {
   "cell_type": "markdown",
   "metadata": {},
   "source": [
    "### Write a function to calculate MAE\n",
    "actual is the actual value of the label, prediction is the predicted value of the label by the model"
   ]
  },
  {
   "cell_type": "code",
   "execution_count": 20,
   "metadata": {
    "collapsed": true
   },
   "outputs": [],
   "source": [
    "def mae(actual,prediction):\n",
    "    return mean_absolute_error"
   ]
  },
  {
   "cell_type": "markdown",
   "metadata": {},
   "source": [
    "### Write a function to calculate RMSE"
   ]
  },
  {
   "cell_type": "code",
   "execution_count": 21,
   "metadata": {
    "collapsed": true
   },
   "outputs": [],
   "source": [
    "def rmse(actual,prediction):\n",
    "    return rmse"
   ]
  },
  {
   "cell_type": "markdown",
   "metadata": {},
   "source": [
    "#### Write a function to perform Linear regression and calculating model performance metrics"
   ]
  },
  {
   "cell_type": "code",
   "execution_count": 22,
   "metadata": {
    "collapsed": true
   },
   "outputs": [],
   "source": [
    "def regression(df):   \n",
    "    #### Write your code here while following the instructions\n",
    "    \n",
    "    #### Splitting Data into Train and Test\n",
    "    train,test = \n",
    "    \n",
    "    #### Separating label from features\n",
    "    y_train = \n",
    "    y_test = \n",
    "    x_train = \n",
    "    x_test = \n",
    "    \n",
    "    #### Building model\n",
    "    ### Code to build a linear regression model\n",
    "    reg=\n",
    "    reg.fit()\n",
    "    \n",
    "    #### Doing predictions on training and test data\n",
    "    predicted_train=reg.predict()\n",
    "    predicted_test=reg.predict()\n",
    "    \n",
    "    #### Train and Test MAE Calculation of model\n",
    "    \n",
    "    #### Train and Test RMSE Calculation of model\n",
    "    \n",
    "    #### Train and Test R Squared error calculation\n",
    "    \n",
    "    \n",
    "    #### Train and Test Calculating MAPE\n",
    "    \n",
    "    ### Getting coefficients for features \n",
    "    \n",
    "    \n",
    "    ### return all the metrics for the model to store in a dataframe\n",
    "    return train_r2,test_r2,train_mae,test_mae,train_rmse,test_rmse,train_mape,test_mape,Mkt_RF_coefficient,HML_coefficient,SMB_coefficient,RMW_coefficient,CMA_coefficient\n",
    "    \n"
   ]
  },
  {
   "cell_type": "markdown",
   "metadata": {},
   "source": [
    "### Write a function to calculate Yearly monthly and daily columns for the stock data\n"
   ]
  },
  {
   "cell_type": "code",
   "execution_count": 23,
   "metadata": {
    "collapsed": true
   },
   "outputs": [],
   "source": [
    "def calculate_year_month_day(df):\n",
    "    return df\n",
    "   "
   ]
  },
  {
   "cell_type": "markdown",
   "metadata": {},
   "source": [
    "### Running the main code"
   ]
  },
  {
   "cell_type": "code",
   "execution_count": 25,
   "metadata": {
    "collapsed": true,
    "scrolled": false
   },
   "outputs": [],
   "source": [
    "\n",
    "rownum=1\n",
    "### Iterate through the stock list    \n",
    "for i in stocklist:\n",
    "    ### Fetching daily and monthly data\n",
    "    stock_data=quandl.get([i],transform=\"rdiff\",collapse=\"monthly\")\n",
    "    stock_data_daily=quandl.get([i],transform=\"rdiff\",collapse=\"daily\")\n",
    "    \n",
    "    ### Calculating the name of the stock data columns\n",
    "    \n",
    "    nameofcol=i[:-3]+' - Adj. Close'\n",
    "    \n",
    "    \n",
    "    ### Fetching the date column for merging and calculating the day month and year for merging with fama data\n",
    "    stock_data=calculate_year_month_day(stock_data)\n",
    "    stock_data_daily=calculate_year_month_day(stock_data_daily)\n",
    "    \n",
    "    ### Bringing the stock data to the scale of the FAMA Data\n",
    "    stock_data[nameofcol]=stock_data[nameofcol]*100\n",
    "    \n",
    "    \n",
    "    ### Bringing the stock data to the scale of the FAMA Data\n",
    "    stock_data_daily[nameofcol]=stock_data_daily[nameofcol]*100\n",
    "   \n",
    "    ### This is a counter to add result to the dataframe\n",
    "    if rownum>1:\n",
    "        rownum+=1\n",
    "    \n",
    "    \n",
    "    ### merging the monthly stock data with the FAMA 3 factor monthly data\n",
    "    \n",
    "    result_ff5=stock_data.merge(ff5,how=\"inner\",left_on=[\"Year\",\"Month\"],right_on=[\"Year\",\"Month\"])\n",
    "    result_ff5=datatypechange(result_ff5,nameofcol)\n",
    "    \n",
    "    ### Creating the monthly data model and adding the inputs to the result dataset\n",
    "    train_r2,test_r2,train_mae,test_mae,train_rmse,test_rmse,train_mape,test_mape,Mkt_RF_coefficient,HML_coefficient,SMB_coefficient,RMW_coefficient,CMA_coefficient=regression(result_ff5)\n",
    "    rownum+=1\n",
    "    final_result.loc[rownum]=[i[5:-3],\"Monthly\",\"5-Factor\",train_r2,test_r2,train_mae,test_mae,train_rmse,test_rmse,train_mape,test_mape,Mkt_RF_coefficient,HML_coefficient,SMB_coefficient,RMW_coefficient,CMA_coefficient]\n",
    "\n",
    "    \n",
    "    \n",
    "    \n",
    "    \n",
    "    ### merging the monthly stock data with the FAMA 3 factor daily data\n",
    "    \n",
    "     \n",
    "    result_ff5_daily=stock_data_daily.merge(ff5_daily,how=\"inner\",left_on=[\"Year\",\"Month\",\"Day\"],right_on=[\"Year\",\"Month\",\"Day\"])\n",
    "    result_ff5_daily=datatypechange(result_ff5_daily,nameofcol)\n",
    "    \n",
    "    ### Creating the daily data model and adding the inputs to the result dataset\n",
    "    \n",
    "    train_r2,test_r2,train_mae,test_mae,train_rmse,test_rmse,train_mape,test_mape,Mkt_RF_coefficient,HML_coefficient,SMB_coefficient,RMW_coefficient,CMA_coefficient=regression(result_ff5_daily)\n",
    "    rownum+=1\n",
    "    final_result.loc[rownum]=[i[5:-3],\"Daily\",\"5-Factor\",train_r2,test_r2,train_mae,test_mae,train_rmse,test_rmse,train_mape,test_mape,Mkt_RF_coefficient,HML_coefficient,SMB_coefficient,RMW_coefficient,CMA_coefficient]\n",
    "    "
   ]
  },
  {
   "cell_type": "code",
   "execution_count": null,
   "metadata": {
    "collapsed": true
   },
   "outputs": [],
   "source": [
    "print(final_result)"
   ]
  },
  {
   "cell_type": "markdown",
   "metadata": {},
   "source": [
    "### Outputting the result to a csv"
   ]
  },
  {
   "cell_type": "code",
   "execution_count": 20,
   "metadata": {
    "collapsed": true
   },
   "outputs": [],
   "source": [
    "final_result.to_csv('FAMAResult.csv',index=False)"
   ]
  },
  {
   "cell_type": "code",
   "execution_count": null,
   "metadata": {
    "collapsed": true
   },
   "outputs": [],
   "source": []
  }
 ],
 "metadata": {
  "kernelspec": {
   "display_name": "Python 3",
   "language": "python",
   "name": "python3"
  },
  "language_info": {
   "codemirror_mode": {
    "name": "ipython",
    "version": 3
   },
   "file_extension": ".py",
   "mimetype": "text/x-python",
   "name": "python",
   "nbconvert_exporter": "python",
   "pygments_lexer": "ipython3",
   "version": "3.6.3"
  }
 },
 "nbformat": 4,
 "nbformat_minor": 2
}
